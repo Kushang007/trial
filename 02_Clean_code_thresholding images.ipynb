{
 "cells": [
  {
   "cell_type": "code",
   "execution_count": 2,
   "id": "f3bf6e73-464d-4b31-9ef1-b6467a4d3707",
   "metadata": {},
   "outputs": [],
   "source": [
    "import os\n",
    "import pathlib\n",
    "import glob\n",
    "import cv2\n",
    "import matplotlib.pyplot as plt\n",
    "%matplotlib inline"
   ]
  },
  {
   "cell_type": "markdown",
   "id": "89f29bf4-de88-4927-8a73-4aaa0910cf5c",
   "metadata": {},
   "source": [
    "# Directories"
   ]
  },
  {
   "cell_type": "code",
   "execution_count": 4,
   "id": "6abe4ecc-839b-46e0-8d67-f8af49f5f86c",
   "metadata": {},
   "outputs": [
    {
     "name": "stdout",
     "output_type": "stream",
     "text": [
      "D:\\RWTH\\2.MSc Robotics\\4.RP\\6.Notebooks\n"
     ]
    }
   ],
   "source": [
    "working_dir=str(pathlib.Path.cwd())\n",
    "print(working_dir)"
   ]
  },
  {
   "cell_type": "code",
   "execution_count": 5,
   "id": "ccaa1dd0-32ae-466a-93ac-d23fc479d6f1",
   "metadata": {},
   "outputs": [
    {
     "name": "stdout",
     "output_type": "stream",
     "text": [
      "D:\\RWTH\\2.MSc Robotics\\4.RP\n"
     ]
    }
   ],
   "source": [
    "parent_dir=str(pathlib.Path.cwd().parent)\n",
    "print(parent_dir)"
   ]
  },
  {
   "cell_type": "code",
   "execution_count": 10,
   "id": "ae2c6031-c464-4e2c-a2ed-5ca4e06a78f8",
   "metadata": {},
   "outputs": [
    {
     "name": "stdout",
     "output_type": "stream",
     "text": [
      "D:\\RWTH\\2.MSc Robotics\\4.RP\\5.Dataset\n"
     ]
    }
   ],
   "source": [
    "dataset_dir=str(pathlib.Path.cwd().parent)+'\\\\'+'5.Dataset'\n",
    "print(dataset_dir)"
   ]
  },
  {
   "cell_type": "code",
   "execution_count": 13,
   "id": "0526d115-cc43-48b1-aed6-770b345cf140",
   "metadata": {},
   "outputs": [
    {
     "data": {
      "text/plain": [
       "['set1sample2raw',\n",
       " 'set1sample3raw',\n",
       " 'set1sample4raw',\n",
       " 'set1sample5raw',\n",
       " 'set1sample6raw']"
      ]
     },
     "execution_count": 13,
     "metadata": {},
     "output_type": "execute_result"
    }
   ],
   "source": [
    "dataset_folders=os.listdir(dataset_dir)\n",
    "dataset_folders"
   ]
  },
  {
   "cell_type": "code",
   "execution_count": 14,
   "id": "4aa77eb9-169d-4a43-b0f1-651ef25f3570",
   "metadata": {},
   "outputs": [
    {
     "data": {
      "text/plain": [
       "'D:\\\\RWTH\\\\2.MSc Robotics\\\\4.RP\\\\6.Notebooks'"
      ]
     },
     "execution_count": 14,
     "metadata": {},
     "output_type": "execute_result"
    }
   ],
   "source": [
    "os.getcwd()"
   ]
  },
  {
   "cell_type": "code",
   "execution_count": 15,
   "id": "45626e79-e49f-47ef-936b-053620585d85",
   "metadata": {},
   "outputs": [],
   "source": [
    "os.chdir(dataset_dir)"
   ]
  },
  {
   "cell_type": "code",
   "execution_count": 16,
   "id": "c7a2096c-fc7e-47f6-a8d4-5bd08b868705",
   "metadata": {},
   "outputs": [],
   "source": [
    "for items in dataset_folders:\n",
    "    os.makedirs('Groundtruth'+'\\\\'+str(items))\n",
    "    "
   ]
  },
  {
   "cell_type": "code",
   "execution_count": 17,
   "id": "96554443-6808-4f81-906b-9548d9059bf1",
   "metadata": {},
   "outputs": [
    {
     "data": {
      "text/plain": [
       "'D:\\\\RWTH\\\\2.MSc Robotics\\\\4.RP\\\\5.Dataset'"
      ]
     },
     "execution_count": 17,
     "metadata": {},
     "output_type": "execute_result"
    }
   ],
   "source": [
    "os.getcwd()"
   ]
  },
  {
   "cell_type": "code",
   "execution_count": 18,
   "id": "40729400-68a9-42b9-a05e-ffffb19fd036",
   "metadata": {},
   "outputs": [
    {
     "data": {
      "text/plain": [
       "'D:\\\\RWTH\\\\2.MSc Robotics\\\\4.RP\\\\5.Dataset\\\\Groundtruth'"
      ]
     },
     "execution_count": 18,
     "metadata": {},
     "output_type": "execute_result"
    }
   ],
   "source": [
    "saving_dir=dataset_dir+'\\\\Groundtruth'\n",
    "saving_dir"
   ]
  },
  {
   "cell_type": "markdown",
   "id": "d980b4fc-4c04-4a40-9585-d7b2b329d9a0",
   "metadata": {},
   "source": [
    "# setting image thresholds"
   ]
  },
  {
   "cell_type": "code",
   "execution_count": 19,
   "id": "41d23e6c-d547-48cd-8245-1d5f9c295b73",
   "metadata": {},
   "outputs": [],
   "source": [
    "threshold_dict={}"
   ]
  },
  {
   "cell_type": "code",
   "execution_count": 22,
   "id": "829bd2f1-e118-4753-ac54-d615674b0cbc",
   "metadata": {},
   "outputs": [
    {
     "data": {
      "text/plain": [
       "['set1sample2raw\\\\set1sample2raw_0000.tif',\n",
       " 'set1sample2raw\\\\set1sample2raw_0001.tif',\n",
       " 'set1sample2raw\\\\set1sample2raw_0002.tif']"
      ]
     },
     "execution_count": 22,
     "metadata": {},
     "output_type": "execute_result"
    }
   ],
   "source": [
    "glob.glob(dataset_folders[0]+'/*tif')[:3]"
   ]
  },
  {
   "cell_type": "code",
   "execution_count": 23,
   "id": "9ba2e3a6-e418-478f-b24b-a6973337d7cd",
   "metadata": {},
   "outputs": [
    {
     "data": {
      "text/plain": [
       "[]"
      ]
     },
     "execution_count": 23,
     "metadata": {},
     "output_type": "execute_result"
    }
   ],
   "source": [
    "glob.glob(dataset_folders[0][0])"
   ]
  },
  {
   "cell_type": "code",
   "execution_count": null,
   "id": "18697d5e-26fc-4005-9761-b0ec2bfbde4a",
   "metadata": {},
   "outputs": [],
   "source": []
  },
  {
   "cell_type": "code",
   "execution_count": 25,
   "id": "92cec944-abc4-4b5c-a907-435ef05e2e81",
   "metadata": {},
   "outputs": [],
   "source": [
    "for items in dataset_folders:\n",
    "    path=glob.glob(dataset_dir+\"\\\\\"+str(items)+'/*.tif')[0]\n",
    "    img=cv2.imread(path)\n",
    "\n",
    "\n",
    "    def nothing(x):\n",
    "        return True\n",
    "\n",
    "    cv2.namedWindow(\"image\")\n",
    "    cv2.createTrackbar(\"lower\",\"image\",0,255,nothing)\n",
    "    cv2.createTrackbar(\"upper\",\"image\",0,255,nothing)\n",
    "\n",
    "    #\n",
    "\n",
    "    while(1):\n",
    "        cv2.imshow(\"image\",img)\n",
    "        key=cv2.waitKey(1)\n",
    "        if key==27:\n",
    "            break\n",
    "\n",
    "        t1=cv2.getTrackbarPos(\"lower\",\"image\")\n",
    "        t2=cv2.getTrackbarPos(\"upper\",\"image\")\n",
    "\n",
    "\n",
    "        _,th1=cv2.threshold(img,t1,t2,cv2.THRESH_BINARY)\n",
    "        #print(th1.max)\n",
    "        cv2.imshow(\"w2\",th1)\n",
    "        \n",
    "    threshold_dict[str(items)]=[t1,t2]\n",
    "    cv2.destroyAllWindows()"
   ]
  },
  {
   "cell_type": "code",
   "execution_count": 27,
   "id": "7780ea35-2cee-47b0-93bd-8b736ee220cb",
   "metadata": {},
   "outputs": [
    {
     "name": "stdout",
     "output_type": "stream",
     "text": [
      "{'set1sample2raw': [150, 255], 'set1sample3raw': [125, 255], 'set1sample4raw': [125, 255], 'set1sample5raw': [150, 255], 'set1sample6raw': [150, 255]}\n"
     ]
    }
   ],
   "source": [
    "print(threshold_dict)"
   ]
  },
  {
   "cell_type": "code",
   "execution_count": 31,
   "id": "95a2a734-4100-42fc-9d57-63d7c86638d3",
   "metadata": {},
   "outputs": [
    {
     "name": "stdout",
     "output_type": "stream",
     "text": [
      "150 255\n"
     ]
    }
   ],
   "source": [
    "x,y=threshold_dict['set1sample2raw']\n",
    "print(x,y)"
   ]
  },
  {
   "cell_type": "markdown",
   "id": "87dd9fe2-8a2c-43c2-9127-0857d8c1b491",
   "metadata": {},
   "source": [
    "# Saving images to .png"
   ]
  },
  {
   "cell_type": "code",
   "execution_count": null,
   "id": "e4ba6b85-015d-4a7d-b4db-3ff24eaeb0dc",
   "metadata": {},
   "outputs": [],
   "source": []
  },
  {
   "cell_type": "code",
   "execution_count": 29,
   "id": "b125e04a-5a44-4b52-bea1-8cfc959f2fc7",
   "metadata": {},
   "outputs": [
    {
     "data": {
      "text/plain": [
       "'D:\\\\RWTH\\\\2.MSc Robotics\\\\4.RP\\\\5.Dataset'"
      ]
     },
     "execution_count": 29,
     "metadata": {},
     "output_type": "execute_result"
    }
   ],
   "source": [
    "os.getcwd()"
   ]
  },
  {
   "cell_type": "code",
   "execution_count": 33,
   "id": "99e2c55e-7eba-4368-8974-1190e41607c7",
   "metadata": {},
   "outputs": [],
   "source": [
    "for items in dataset_folders:\n",
    "    os.chdir(saving_dir+'\\\\'+str(items))\n",
    "    path_list=glob.glob(dataset_dir+\"\\\\\"+items+'/*.tif')\n",
    "    i=0\n",
    "    for i in range(len(path_list)):\n",
    "        image=cv2.imread(path_list[i],0)\n",
    "        t1,t2=threshold_dict[items]\n",
    "        _,th1=cv2.threshold(image,t1,t2,cv2.THRESH_BINARY)\n",
    "        cropped=th1[200:800,200:800]\n",
    "        cv2.imwrite(str(items)+\"_{0:0=4d}.png\".format(i),cropped)\n",
    "        i=i+1"
   ]
  },
  {
   "cell_type": "code",
   "execution_count": 34,
   "id": "59cb5902-a1e6-4fc8-94be-931f847f4062",
   "metadata": {},
   "outputs": [
    {
     "data": {
      "text/plain": [
       "'D:\\\\RWTH\\\\2.MSc Robotics\\\\4.RP\\\\5.Dataset\\\\Groundtruth\\\\set1sample6raw'"
      ]
     },
     "execution_count": 34,
     "metadata": {},
     "output_type": "execute_result"
    }
   ],
   "source": [
    "os.getcwd()"
   ]
  },
  {
   "cell_type": "code",
   "execution_count": 35,
   "id": "2a314222-d984-48cd-88f4-a96671b47a43",
   "metadata": {},
   "outputs": [],
   "source": [
    "os.chdir(working_dir)"
   ]
  },
  {
   "cell_type": "code",
   "execution_count": 36,
   "id": "41b446e0-c431-41f9-ba0f-b9056693790f",
   "metadata": {},
   "outputs": [
    {
     "data": {
      "text/plain": [
       "'D:\\\\RWTH\\\\2.MSc Robotics\\\\4.RP\\\\6.Notebooks'"
      ]
     },
     "execution_count": 36,
     "metadata": {},
     "output_type": "execute_result"
    }
   ],
   "source": [
    "os.getcwd()"
   ]
  },
  {
   "cell_type": "code",
   "execution_count": 3,
   "id": "f383175a-a5e4-466e-b8bc-990bf6656ba9",
   "metadata": {},
   "outputs": [
    {
     "data": {
      "text/plain": [
       "'D:\\\\RWTH\\\\2.MSc Robotics\\\\4.RP\\\\6.Notebooks'"
      ]
     },
     "execution_count": 3,
     "metadata": {},
     "output_type": "execute_result"
    }
   ],
   "source": [
    "os.getcwd()"
   ]
  },
  {
   "cell_type": "code",
   "execution_count": null,
   "id": "6e0fa47c-662b-4081-9448-872d9588fa38",
   "metadata": {},
   "outputs": [],
   "source": []
  }
 ],
 "metadata": {
  "kernelspec": {
   "display_name": "Python 3 (ipykernel)",
   "language": "python",
   "name": "python3"
  },
  "language_info": {
   "codemirror_mode": {
    "name": "ipython",
    "version": 3
   },
   "file_extension": ".py",
   "mimetype": "text/x-python",
   "name": "python",
   "nbconvert_exporter": "python",
   "pygments_lexer": "ipython3",
   "version": "3.9.7"
  }
 },
 "nbformat": 4,
 "nbformat_minor": 5
}
